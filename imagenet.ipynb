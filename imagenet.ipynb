{
  "nbformat": 4,
  "nbformat_minor": 0,
  "metadata": {
    "colab": {
      "name": "imagenet.ipynb",
      "version": "0.3.2",
      "provenance": [],
      "collapsed_sections": [],
      "include_colab_link": true
    },
    "kernelspec": {
      "name": "python3",
      "display_name": "Python 3"
    }
  },
  "cells": [
    {
      "cell_type": "markdown",
      "metadata": {
        "id": "view-in-github",
        "colab_type": "text"
      },
      "source": [
        "<a href=\"https://colab.research.google.com/github/kunalrdeshmukh/scripts/blob/master/imagenet.ipynb\" target=\"_parent\"><img src=\"https://colab.research.google.com/assets/colab-badge.svg\" alt=\"Open In Colab\"/></a>"
      ]
    },
    {
      "metadata": {
        "id": "ooCyKJ8fEk1p",
        "colab_type": "text"
      },
      "cell_type": "markdown",
      "source": [
        "This is a script to download imagenet dataset. Save the [url file ](http://image-net.org/imagenet_data/urls/imagenet_fall11_urls.tgz) to location and then run this script. "
      ]
    },
    {
      "metadata": {
        "id": "4S4ezlWEiSbp",
        "colab_type": "code",
        "colab": {
          "base_uri": "https://localhost:8080/",
          "height": 122
        },
        "outputId": "93789f68-d005-4309-a447-0c1ccdbf060f"
      },
      "cell_type": "code",
      "source": [
        "from google.colab import drive\n",
        "drive.mount('/content/gdrive')"
      ],
      "execution_count": 2,
      "outputs": [
        {
          "output_type": "stream",
          "text": [
            "\n",
            "Enter your authorization code:\n",
            "··········\n",
            "Mounted at /content/gdrive\n"
          ],
          "name": "stdout"
        }
      ]
    },
    {
      "metadata": {
        "id": "GlAVPNzgiSP_",
        "colab_type": "code",
        "colab": {}
      },
      "cell_type": "code",
      "source": [
      ],
      "execution_count": 0,
      "outputs": []
    },
    {
      "metadata": {
        "id": "UHTP14LKEZjv",
        "colab_type": "code",
        "colab": {
          "base_uri": "https://localhost:8080/",
          "height": 34
        },
        "outputId": "0916f055-6d6b-4da0-f8e7-938c237bf062"
      },
      "cell_type": "code",
      "source": [
      ],
      "execution_count": 16,
      "outputs": [
        {
          "output_type": "stream",
          "text": [
          ],
          "name": "stdout"
        }
      ]
    },
    {
      "metadata": {
        "id": "rwvFXtRXvBcV",
        "colab_type": "code",
        "colab": {}
      },
      "cell_type": "code",
      "source": [
        "from pathlib import Path\n",
        "import requests\n",
        "import urllib\n",
        "\n",
        "def urlretrieve(url,Path):\n",
        "  request = urllib.request.urlopen(url, timeout=5)\n",
        "  with open(Path, 'wb') as f:\n",
        "    try:\n",
        "        f.write(request.read())\n",
        "    except:\n",
        "        print(\"error\")"
      ],
      "execution_count": 0,
      "outputs": []
    },
    {
      "metadata": {
        "id": "FlVokpnph2bN",
        "colab_type": "code",
        "colab": {
          "base_uri": "https://localhost:8080/",
          "height": 9146
        },
        "outputId": "7d9aacaa-e698-42b6-ef1c-38e59018ea40"
      },
      "cell_type": "code",
      "source": [
        "# from urllib.request import \n",
        "import cv2\n",
        "import numpy as np\n",
        "import os\n",
        "import urllib\n",
        "import sys\n",
        "\n",
        "def store_raw_images():\n",
        "    fil = open('/urls.txt','r', encoding=\"utf-8\" )\n",
        "    urls = fil.read()\n",
        "\n",
        "    if not os.path.exists('/Imagenet'):\n",
        "        os.makedirs('/Imagenet')\n",
        "    if not os.path.exists('/Imagenet/train'):\n",
        "        os.makedirs('/Imagenet/train')\n",
        "    if not os.path.exists('/Imagenet/test'):\n",
        "        os.makedirs('/Imagenet/test')\n",
        "        \n",
        "    pic_num = 1\n",
        "    for i in urls.split('\\n'):\n",
        "        try:\n",
        "            urlretrieve(i, \"/Imagenet/\"+str(pic_num)+\".jpg\")\n",
        "            img = cv2.imread(\"/Imagenet/\"+str(pic_num)+\".jpg\",cv2.IMREAD_COLOR)\n",
        "            os.remove(\"/Imagenet/\"+str(pic_num)+\".jpg\")\n",
        "            # should be larger than samples / pos pic (so we can place our image on it)\n",
        "            resized_image = cv2.resize(img, (256, 256))\n",
        "            if(pic_num%10 == 0):\n",
        "              cv2.imwrite(\"/Imagenet/test/\"+str(pic_num)+\".jpg\",resized_image)\n",
        "              \n",
        "              if (os.path.getsize(\"/Imagenet/test/\"+str(pic_num)+\".jpg\") == 5450):\n",
        "                os.remove(\"/Imagenet/test/\"+str(pic_num)+\".jpg\")\n",
        "                pic_num -= 1\n",
        "            else:\n",
        "              cv2.imwrite(\"/Imagenet/train/\"+str(pic_num)+\".jpg\",resized_image)\n",
        "              if (os.path.getsize(\"/Imagenet/train/\"+str(pic_num)+\".jpg\") == 5450):\n",
        "                os.remove(\"/Imagenet/train/\"+str(pic_num)+\".jpg\")\n",
        "                pic_num -= 1\n",
        "                \n",
        "            print(pic_num)                \n",
        "            pic_num += 1\n",
        "\n",
        "\n",
        "        except Exception as e:\n",
        "            print(str(e))\n",
        "\n",
        "store_raw_images()"
      ],
      "execution_count": 0,
      "outputs": [
        {
          "output_type": "stream",
          "text": [
            "1\n",
            "2\n",
            "3\n",
            "4\n",
            "5\n",
          ],
          "name": "stdout"
        }
      ]
    },
    {
      "metadata": {
        "id": "z81-bzA2d1a1",
        "colab_type": "code",
        "colab": {}
      },
      "cell_type": "code",
      "source": [
        ""
      ],
      "execution_count": 0,
      "outputs": []
    }
  ]
}
