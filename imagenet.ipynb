{
  "nbformat": 4,
  "nbformat_minor": 0,
  "metadata": {
    "colab": {
      "name": "imagenet.ipynb",
      "version": "0.3.2",
      "provenance": [],
      "collapsed_sections": [],
      "include_colab_link": true
    },
    "kernelspec": {
      "name": "python3",
      "display_name": "Python 3"
    }
  },
  "cells": [
    {
      "cell_type": "markdown",
      "metadata": {
        "id": "view-in-github",
        "colab_type": "text"
      },
      "source": [
        "<a href=\"https://colab.research.google.com/github/kunalrdeshmukh/scripts/blob/master/imagenet.ipynb\" target=\"_parent\"><img src=\"https://colab.research.google.com/assets/colab-badge.svg\" alt=\"Open In Colab\"/></a>"
      ]
    },
    {
      "metadata": {
        "id": "ooCyKJ8fEk1p",
        "colab_type": "text"
      },
      "cell_type": "markdown",
      "source": [
        "This is a script to download imagenet dataset. Save the [url file ](http://image-net.org/imagenet_data/urls/imagenet_fall11_urls.tgz) to location and then run this script. "
      ]
    },
    {
      "metadata": {
        "id": "4S4ezlWEiSbp",
        "colab_type": "code",
        "colab": {
          "base_uri": "https://localhost:8080/",
          "height": 122
        },
        "outputId": "50c94fb7-d5bc-47a6-e442-f7fdba6ba674"
      },
      "cell_type": "code",
      "source": [
        "from google.colab import drive\n",
        "drive.mount('/content/gdrive')"
      ],
      "execution_count": 5,
      "outputs": [
        {
          "output_type": "stream",
          "text": [
            "Go to this URL in a browser: https://accounts.google.com/o/oauth2/auth?client_id=947318989803-6bn6qk8qdgf4n4g3pfee6491hc0brc4i.apps.googleusercontent.com&redirect_uri=urn%3Aietf%3Awg%3Aoauth%3A2.0%3Aoob&scope=email%20https%3A%2F%2Fwww.googleapis.com%2Fauth%2Fdocs.test%20https%3A%2F%2Fwww.googleapis.com%2Fauth%2Fdrive%20https%3A%2F%2Fwww.googleapis.com%2Fauth%2Fdrive.photos.readonly%20https%3A%2F%2Fwww.googleapis.com%2Fauth%2Fpeopleapi.readonly&response_type=code\n",
            "\n",
            "Enter your authorization code:\n",
            "··········\n",
            "Mounted at /content/gdrive\n"
          ],
          "name": "stdout"
        }
      ]
    },
    {
      "metadata": {
        "id": "GlAVPNzgiSP_",
        "colab_type": "code",
        "colab": {
          "base_uri": "https://localhost:8080/",
          "height": 34
        },
        "outputId": "670353b4-38ce-424d-8879-197244ad5d93"
      },
      "cell_type": "code",
      "source": [
        "!ls\n",
        "location = 'location/of/url'"
      ],
      "execution_count": 2,
      "outputs": [
        {
          "output_type": "stream",
          "text": [
            "gdrive\tsample_data\n"
          ],
          "name": "stdout"
        }
      ]
    },
    {
      "metadata": {
        "id": "UHTP14LKEZjv",
        "colab_type": "code",
        "colab": {}
      },
      "cell_type": "code",
      "source": [
        ""
      ],
      "execution_count": 0,
      "outputs": []
    },
    {
      "metadata": {
        "id": "rwvFXtRXvBcV",
        "colab_type": "code",
        "colab": {}
      },
      "cell_type": "code",
      "source": [
        "from pathlib import Path\n",
        "import requests\n",
        "import urllib\n",
        "\n",
        "def urlretrieve(url,Path):\n",
        "  request = urllib.request.urlopen(url, timeout=50)\n",
        "  with open(Path, 'wb') as f:\n",
        "    try:\n",
        "        f.write(request.read())\n",
        "    except:\n",
        "        print(\"error\")"
      ],
      "execution_count": 0,
      "outputs": []
    },
    {
      "metadata": {
        "id": "FlVokpnph2bN",
        "colab_type": "code",
        "colab": {
          "base_uri": "https://localhost:8080/",
          "height": 12311
        },
        "outputId": "0bd4db05-e704-4c4b-a2d4-b7c160c39461"
      },
      "cell_type": "code",
      "source": [
        "# from urllib.request import \n",
        "import cv2\n",
        "import numpy as np\n",
        "import os\n",
        "import urllib\n",
        "import sys\n",
        "\n",
        "def store_raw_images():\n",
        "    fil = open('/urls.txt','r', encoding=\"utf-8\" )\n",
        "    urls = fil.read()\n",
        "\n",
        "    if not os.path.exists('Imagenet'):\n",
        "        os.makedirs('Imagenet')\n",
        "\n",
        "    pic_num = 1\n",
        "    for i in urls.split('\\n'):\n",
        "        try:\n",
        "            print(i)\n",
        "            urlretrieve(i, \"/Imagenet/\"+str(pic_num)+\".jpg\")\n",
        "            img = cv2.imread(\"/Imagenet/\"+str(pic_num)+\".jpg\",cv2.IMREAD_COLOR)\n",
        "            # should be larger than samples / pos pic (so we can place our image on it)\n",
        "            resized_image = cv2.resize(img, (256, 256))\n",
        "            cv2.imwrite(\"/Imagenet/\"+str(pic_num)+\".jpg\",resized_image)\n",
        "            pic_num += 1\n",
        "\n",
        "        except Exception as e:\n",
        "            print(str(e))\n",
        "\n",
        "store_raw_images()"
      ],
      "execution_count": 0,
      "outputs": [
        {
          "output_type": "stream",
          "text": [
          ],
          "name": "stdout"
        }
      ]
    },
    {
      "metadata": {
        "id": "xIYy5k9XnVyl",
        "colab_type": "code",
        "colab": {}
      },
      "cell_type": "code",
      "source": [
        ""
      ],
      "execution_count": 0,
      "outputs": []
    }
  ]
}
